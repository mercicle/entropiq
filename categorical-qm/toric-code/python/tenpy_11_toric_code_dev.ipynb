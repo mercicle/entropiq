{
 "cells": [
  {
   "cell_type": "markdown",
   "metadata": {},
   "source": [
    "# Toric Code Overview\n",
    "\n",
    "\n",
    "I'm learning how to exactly solve for diagonlizing the Toric Code Hamiltonian. This notebook used the ToricCode extension example as a starterkit\n",
    "\n",
    "\n",
    "The Hamiltonian of the Toric Code is:\n",
    "\n",
    "$$\\mathcal{H}=-\\sum_p B_p - \\sum_s A_s$$ \n",
    "\n",
    "where $B_p = \\prod_{i \\in p} \\sigma^z_i$ denotes the product of $\\sigma^z$ around an elementary plaquette and $A_s = \\prod_{i \\in s} \\sigma^x_i$ denotes the product of $\\sigma^x$ on the four links sticking out of a site of the lattice. The $B_p$ and $A_s$ operators commute with each other and have eigenvalues $\\pm 1$, hence the ground state will have eigenvalue $+1$ for each of them.\n",
    "\n",
    "On an infinite cylinder, the model exhibits a four-fold degeneracy of the ground state, characterized by the \n",
    "different values $\\pm 1$ of the incontractible Wilson and t'Hooft loops.\n",
    "These loop operators are defined by the products\n",
    "\n",
    "$$W=\\prod_{\\text{vert links}} \\sigma^z\\qquad \\qquad H=\\prod_{\\text{hor links}} \\sigma^x$$\n",
    "\n",
    "around the cylinder.\n",
    "\n",
    "TeNPy already implements this hamiltonian in `tenpy.models.toric_code.ToricCode`.\n",
    "\n"
   ]
  },
  {
   "cell_type": "code",
   "execution_count": 1,
   "metadata": {},
   "outputs": [],
   "source": [
    "import numpy as np\n",
    "import scipy\n",
    "import matplotlib.pyplot as plt\n",
    "np.set_printoptions(precision=5, suppress=True, linewidth=120)\n",
    "plt.rcParams['figure.dpi'] = 150"
   ]
  },
  {
   "cell_type": "code",
   "execution_count": 2,
   "metadata": {},
   "outputs": [],
   "source": [
    "import tenpy\n",
    "import tenpy.linalg.np_conserved as npc\n",
    "from tenpy.algorithms.dmrg import TwoSiteDMRGEngine\n",
    "from tenpy.networks.mps import MPS\n",
    "from tenpy.models.toric_code import ToricCode, DualSquare\n",
    "from tenpy.models.lattice import Square\n",
    "\n",
    "tenpy.tools.misc.setup_logging(to_stdout=\"WARNING\")  # don't show info text"
   ]
  },
  {
   "cell_type": "markdown",
   "metadata": {},
   "source": [
    "Let's plot the DualSquare lattice first to get the geometry clear. The unit cell consists of two sites, the blue one on the vertical links ($u=0$), and the orange one on the horizontal links ($u=1$).\n",
    "We also plot lines illustrating where the Wilson and t'Hooft loops go."
   ]
  },
  {
   "cell_type": "code",
   "execution_count": 18,
   "metadata": {},
   "outputs": [
    {
     "name": "stdout",
     "output_type": "stream",
     "text": [
      "WARNING : No artists with labels found to put in legend.  Note that artists whose label start with an underscore are ignored when legend() is called with no argument.\n"
     ]
    },
    {
     "data": {
      "image/png": "[encoded data removed]",
      "text/plain": [
       "<Figure size 1050x750 with 1 Axes>"
      ]
     },
     "metadata": {
      "needs_background": "light"
     },
     "output_type": "display_data"
    }
   ],
   "source": [
    "plt.figure(figsize=(7, 5))\n",
    "ax = plt.gca()\n",
    "\n",
    "size = 2\n",
    "\n",
    "sq = Square(size, size, None, bc='periodic')\n",
    "sq.plot_coupling(ax, linewidth=3.)\n",
    "\n",
    "lat = DualSquare(size, size, None, bc='periodic')\n",
    "lat.plot_sites(ax)\n",
    "ax.set_aspect('equal')\n",
    "ax.set_xlim(-1, 6)\n",
    "ax.set_ylim(-1)\n",
    "ax.legend()\n",
    "plt.show()"
   ]
  },
  {
   "cell_type": "markdown",
   "metadata": {},
   "source": [
    "## iDMRG\n",
    "\n",
    "\"Infinite size Density Matrix Renormalization Group(iDMRG) is a tool to find the ground state of 1D model where the ground state is an entengled state.\"\n",
    "\n",
    "We now run the iDMRG algorithm for the four different sectors to obtain the four degenerate ground states of the system. \n",
    "\n",
    "To reliably get the 4 different ground states, we will add the energetic constraints for the loops.\n",
    "In this case, the original Hamiltonian will completely commute with the loop operators, such that you directly get the correct ground state. However, this is a very peculiar case - in general, e.g. when you add the external field with $h \\neq 0$, this will no longer be the case.\n",
    "\n",
    "We hence demonstrate a more \"robust\" way of getting the four different ground states (at least if you have an idea which operator distinguishes them): \n",
    "\n",
    "For each sector, we run DMRG twice: first with the energy penalties for the $W,H$ loops to get an initial $|\\psi\\rangle$ in the desired sector. Then we run DMRG again for the clean toric code model, without the $W,H$ added, to make sure we have a ground state of the clean model.\n",
    "\n"
   ]
  },
  {
   "cell_type": "code",
   "execution_count": null,
   "metadata": {},
   "outputs": [],
   "source": [
    "class ExtendedToricCode(ToricCode):\n",
    "\n",
    "    def init_terms(self, model_params):\n",
    "        ToricCode.init_terms(self, model_params)  # add terms of the original ToricCode model\n",
    "        \n",
    "        Ly = self.lat.shape[1]\n",
    "        J_WL = model_params.get('J_WL', 0.)\n",
    "        J_HL = model_params.get('J_HL', 0.)\n",
    "        # unit-cell indices:\n",
    "        # u=0: vertical links\n",
    "        # u=1: horizontal links\n",
    "       \n",
    "        # Wilson Loop\n",
    "        x, u = 0, 0 # vertical links\n",
    "        self.add_local_term(-J_WL, [('Sigmaz', [x, y, u]) for y in range(Ly)])\n",
    "\n",
    "        # t'Hooft Loop\n",
    "        x, u = 0, 1 # vertical links\n",
    "        self.add_local_term(-J_HL, [('Sigmax', [x, y, u]) for y in range(Ly)])\n",
    "            \n",
    "        h = model_params.get('h', 0.)\n",
    "        for u in range(2):\n",
    "            self.add_onsite(-h, u, 'Sigmaz')\n",
    "        \n",
    "    def wilson_loop_y(self, psi):\n",
    "        \"\"\"Measure wilson loop around the cylinder.\"\"\"\n",
    "        Ly = self.lat.shape[1]\n",
    "        x, u = 0, 0 # vertical links\n",
    "        W = TermList.from_lattice_locations(self.lat, [[(\"Sigmaz\",[x, y, u]) for y in range(Ly)]])\n",
    "        return psi.expectation_value_terms_sum(W)[0]\n",
    "    \n",
    "    def hooft_loop_y(self, psi):\n",
    "        \"\"\"Measure t'Hooft loop around the cylinder.\"\"\"\n",
    "        Ly = self.lat.shape[1]\n",
    "        x, u = 0, 1 # horizontal links\n",
    "        H = TermList.from_lattice_locations(self.lat, [[(\"Sigmax\",[x, y, u]) for y in range(Ly)]])\n",
    "        return psi.expectation_value_terms_sum(H)[0]"
   ]
  },
  {
   "cell_type": "code",
   "execution_count": 5,
   "metadata": {},
   "outputs": [],
   "source": [
    "dmrg_params = {\n",
    "    'mixer': True,\n",
    "    'trunc_params': {'chi_max': 64, 'svd_min': 1.e-8},\n",
    "    'max_E_err': 1.e-8, 'max_S_err': 1.e-7,\n",
    "    'N_sweeps_check': 4,\n",
    "    'max_sweeps':24,\n",
    "}\n",
    "\n",
    "model_params = {\n",
    "    'Lx': 1, 'Ly': 4, # Ly is set below\n",
    "    'bc_MPS': \"infinite\",\n",
    "    'conserve': None,\n",
    "}\n",
    "\n",
    "\n",
    "def run_DMRG(Ly, J_WL, J_HL, h=0.):\n",
    "    \n",
    "    print(\"=\"*80)\n",
    "    print(f\"Start iDMRG for Ly={Ly:d}, J_WL={J_WL:.2f}, J_HL={J_HL:.2f}, h={h:.2f}\")\n",
    "    \n",
    "    model_params_clean = model_params.copy()\n",
    "    model_params_clean['Ly'] = Ly\n",
    "    model_params_clean['h'] = h\n",
    "    model_clean = ExtendedToricCode(model_params_clean)\n",
    "    \n",
    "    model_params_seed = model_params_clean.copy()\n",
    "    model_params_seed['J_WL'] = J_WL\n",
    "    model_params_seed['J_HL'] = J_HL\n",
    "    model = ExtendedToricCode(model_params_seed)\n",
    "    \n",
    "    psi = MPS.from_lat_product_state(model.lat, [[[\"up\"]]])\n",
    "\n",
    "    eng = TwoSiteDMRGEngine(psi, model, dmrg_params)\n",
    "    E0, psi = eng.run()\n",
    "    WL = model.wilson_loop_y(psi)\n",
    "    HL = model.hooft_loop_y(psi)\n",
    "    print(f\"after first DMRG run: <psi|W|psi> = {WL: .3f}\")\n",
    "    print(f\"after first DMRG run: <psi|H|psi> = {HL: .3f}\")\n",
    "    print(f\"after first DMRG run: E (including W/H loops) = {E0:.10f}\")\n",
    "\n",
    "    E0_clean = model_clean.H_MPO.expectation_value(psi)\n",
    "    print(f\"after first DMRG run: E (excluding W/H loops) = {E0_clean:.10f}\")\n",
    "\n",
    "    # switch to model without Wilson/Hooft loops\n",
    "    eng.init_env(model=model_clean)\n",
    "\n",
    "    E1, psi = eng.run()\n",
    "\n",
    "    WL = model_clean.wilson_loop_y(psi)\n",
    "    HL = model_clean.hooft_loop_y(psi)\n",
    "    print(f\"after second DMRG run: <psi|W|psi> = {WL: .3f}\")\n",
    "    print(f\"after second DMRG run: <psi|H|psi> = {HL: .3f}\")\n",
    "    print(f\"after second DMRG run: E (excluding W/H loops) = {E1:.10f}\")\n",
    "    print(\"max chi: \", max(psi.chi))\n",
    "    \n",
    "    return {'psi': psi, \n",
    "            'model': model_clean,\n",
    "            'E0': E0, 'E0_clean': E0_clean, 'E': E1, \n",
    "            'WL': WL, 'HL': HL}\n",
    "    print(\"=\"*80)"
   ]
  },
  {
   "cell_type": "code",
   "execution_count": 6,
   "metadata": {},
   "outputs": [
    {
     "name": "stdout",
     "output_type": "stream",
     "text": [
      "================================================================================\n",
      "Start iDMRG for Ly=4, J_WL=-5.00, J_HL=-5.00, h=0.00\n",
      "after first DMRG run: <psi|W|psi> = -1.000\n",
      "after first DMRG run: <psi|H|psi> = -1.000\n",
      "after first DMRG run: E (including W/H loops) = -2.2500000000\n",
      "after first DMRG run: E (excluding W/H loops) = -1.0000000000\n",
      "after second DMRG run: <psi|W|psi> = -1.000\n",
      "after second DMRG run: <psi|H|psi> = -1.000\n",
      "after second DMRG run: E (excluding W/H loops) = -1.0000000000\n",
      "max chi:  8\n",
      "================================================================================\n",
      "Start iDMRG for Ly=4, J_WL=-5.00, J_HL=5.00, h=0.00\n",
      "after first DMRG run: <psi|W|psi> = -1.000\n",
      "after first DMRG run: <psi|H|psi> =  1.000\n",
      "after first DMRG run: E (including W/H loops) = -2.2500000000\n",
      "after first DMRG run: E (excluding W/H loops) = -1.0000000000\n",
      "after second DMRG run: <psi|W|psi> = -1.000\n",
      "after second DMRG run: <psi|H|psi> =  1.000\n",
      "after second DMRG run: E (excluding W/H loops) = -1.0000000000\n",
      "max chi:  8\n",
      "================================================================================\n",
      "Start iDMRG for Ly=4, J_WL=5.00, J_HL=-5.00, h=0.00\n",
      "after first DMRG run: <psi|W|psi> =  1.000\n",
      "after first DMRG run: <psi|H|psi> = -1.000\n",
      "after first DMRG run: E (including W/H loops) = -2.2500000000\n",
      "after first DMRG run: E (excluding W/H loops) = -1.0000000000\n",
      "after second DMRG run: <psi|W|psi> =  1.000\n",
      "after second DMRG run: <psi|H|psi> = -1.000\n",
      "after second DMRG run: E (excluding W/H loops) = -1.0000000000\n",
      "max chi:  8\n",
      "================================================================================\n",
      "Start iDMRG for Ly=4, J_WL=5.00, J_HL=5.00, h=0.00\n",
      "after first DMRG run: <psi|W|psi> =  1.000\n",
      "after first DMRG run: <psi|H|psi> =  1.000\n",
      "after first DMRG run: E (including W/H loops) = -2.2500000000\n",
      "after first DMRG run: E (excluding W/H loops) = -1.0000000000\n",
      "after second DMRG run: <psi|W|psi> =  1.000\n",
      "after second DMRG run: <psi|H|psi> =  1.000\n",
      "after second DMRG run: E (excluding W/H loops) = -1.0000000000\n",
      "max chi:  8\n"
     ]
    }
   ],
   "source": [
    "results_loops = {}\n",
    "for J_WL in [-5., 5.]:\n",
    "    for J_HL in [-5., 5.]:\n",
    "        results_loops[(J_WL, J_HL)] = run_DMRG(Ly=size, J_WL, J_HL)"
   ]
  },
  {
   "cell_type": "code",
   "execution_count": 19,
   "metadata": {},
   "outputs": [
    {
     "data": {
      "text/plain": [
       "{(-5.0, -5.0): {'psi': <tenpy.networks.mps.MPS at 0x12ce0c7f0>,\n",
       "  'model': <__main__.ExtendedToricCode at 0x10f11af10>,\n",
       "  'E0': -2.249999999999993,\n",
       "  'E0_clean': array(-1.),\n",
       "  'E': -0.9999999999999503,\n",
       "  'WL': -0.9999999999999999,\n",
       "  'HL': -0.9999999999999997},\n",
       " (-5.0, 5.0): {'psi': <tenpy.networks.mps.MPS at 0x12ce885b0>,\n",
       "  'model': <__main__.ExtendedToricCode at 0x12ce90490>,\n",
       "  'E0': -2.249999999999943,\n",
       "  'E0_clean': array(-1.),\n",
       "  'E': -1.0000000000000568,\n",
       "  'WL': -1.0000000000000009,\n",
       "  'HL': 1.000000000000001},\n",
       " (5.0, -5.0): {'psi': <tenpy.networks.mps.MPS at 0x12ce94910>,\n",
       "  'model': <__main__.ExtendedToricCode at 0x12ce8e760>,\n",
       "  'E0': -2.250000000000071,\n",
       "  'E0_clean': array(-1.),\n",
       "  'E': -1.000000000000128,\n",
       "  'WL': 1.0000000000000009,\n",
       "  'HL': -1.0000000000000009},\n",
       " (5.0, 5.0): {'psi': <tenpy.networks.mps.MPS at 0x12ce77b80>,\n",
       "  'model': <__main__.ExtendedToricCode at 0x12c55d1f0>,\n",
       "  'E0': -2.250000000000078,\n",
       "  'E0_clean': array(-1.),\n",
       "  'E': -1.0000000000000355,\n",
       "  'WL': 0.9999999999999993,\n",
       "  'HL': 0.9999999999999993}}"
      ]
     },
     "execution_count": 19,
     "metadata": {},
     "output_type": "execute_result"
    }
   ],
   "source": [
    "results_loops"
   ]
  },
  {
   "cell_type": "markdown",
   "metadata": {},
   "source": [
    "As we can see from the output, the idea worked and we indeed get the desired expectation values for the W/H loops.\n",
    "Also, we can directly see that the ground states are degenerate in energy. "
   ]
  },
  {
   "cell_type": "markdown",
   "metadata": {},
   "source": [
    "\n",
    "To check that we found indeed four orhogonal ground states, let's calculate mutual overlaps $\\langle \\psi_i | \\psi_j \\rangle$ for $i,j \\in range(4)$:"
   ]
  },
  {
   "cell_type": "code",
   "execution_count": 11,
   "metadata": {},
   "outputs": [
    {
     "name": "stdout",
     "output_type": "stream",
     "text": [
      "overlaps\n",
      "[[ 1.+0.j  0.+0.j -0.+0.j  0.+0.j]\n",
      " [ 0.+0.j  1.+0.j -0.+0.j  0.+0.j]\n",
      " [-0.+0.j -0.+0.j  1.+0.j -0.+0.j]\n",
      " [ 0.+0.j  0.+0.j -0.+0.j  1.+0.j]]\n"
     ]
    }
   ],
   "source": [
    "psi_list = [res['psi'] for res in results_loops.values()]\n",
    "overlaps= [[psi_i.overlap(psi_j) for psi_j in psi_list] for psi_i in psi_list]\n",
    "print(\"overlaps\")\n",
    "print(np.array(overlaps))"
   ]
  },
  {
   "cell_type": "markdown",
   "metadata": {},
   "source": [
    "The correlation length is almost vanishing, as it should be:"
   ]
  },
  {
   "cell_type": "code",
   "execution_count": 8,
   "metadata": {},
   "outputs": [
    {
     "name": "stdout",
     "output_type": "stream",
     "text": [
      "Correlation lengths: \n",
      "[0.02917 0.02959 0.0292  0.02962]\n"
     ]
    }
   ],
   "source": [
    "print(\"Correlation lengths: \")\n",
    "model = results_loops[(+5., +5.)]['model']\n",
    "print(np.array([psi.correlation_length() / model.lat.N_sites_per_ring for psi in psi_list]))"
   ]
  },
  {
   "cell_type": "markdown",
   "metadata": {},
   "source": [
    "**Intermezzo**: Let's quickly check for a single case that this still works for non-zero $h = 0.1$, where the t'Hooft loop no longer commutes with the Hamiltonian:"
   ]
  },
  {
   "cell_type": "code",
   "execution_count": 9,
   "metadata": {},
   "outputs": [
    {
     "name": "stdout",
     "output_type": "stream",
     "text": [
      "================================================================================\n",
      "Start iDMRG for Ly=4, J_WL=5.00, J_HL=-5.00, h=0.10\n",
      "after first DMRG run: <psi|W|psi> =  1.000\n",
      "after first DMRG run: <psi|H|psi> = -1.000\n",
      "after first DMRG run: E (including W/H loops) = -2.2516147149\n",
      "after first DMRG run: E (excluding W/H loops) = -1.0018727133\n",
      "after second DMRG run: <psi|W|psi> =  1.000\n",
      "after second DMRG run: <psi|H|psi> = -0.995\n",
      "after second DMRG run: E (excluding W/H loops) = -1.0025283892\n",
      "max chi:  64\n"
     ]
    }
   ],
   "source": [
    "res_h = run_DMRG(4, +5., -5., 0.1)"
   ]
  },
  {
   "cell_type": "markdown",
   "metadata": {},
   "source": [
    "The t'Hooft loop no longer is exactly 1 in the ground state, since it no longer commutes with the Hamiltonian, but it is still close to one, so it still distinguishes the degenerate states. As expected, the local perturbation of the field can not destry the global, topological nature of the ground state (manifold)."
   ]
  },
  {
   "cell_type": "markdown",
   "metadata": {},
   "source": [
    "## Topological entanglement entropy\n",
    "\n",
    "Back to $h=0$. For the toric code, the half-cylinder entanglement entropy should be $(L_y-1)\\log 2$.\n",
    "Indeed, we get the correct value at bond 0:"
   ]
  },
  {
   "cell_type": "code",
   "execution_count": 10,
   "metadata": {},
   "outputs": [
    {
     "name": "stdout",
     "output_type": "stream",
     "text": [
      "Entanglement entropies / log(2)\n",
      "[3. 3. 3. 3.]\n"
     ]
    }
   ],
   "source": [
    "print(\"Entanglement entropies / log(2)\")\n",
    "print(np.array([psi.entanglement_entropy()[0]/np.log(2) for psi in psi_list]))"
   ]
  },
  {
   "cell_type": "markdown",
   "metadata": {},
   "source": [
    "Recall that bond 0 is usually a sensible cut for infinite DMRG on a common lattice.\n",
    "This is especially important if you want to extract the [topological entanglement entropy](https://arxiv.org/abs/hep-th/0510092) $\\gamma$ from a fit $S(L_y) = \\alpha L_y - \\gamma$, as corners in the cut can also contribute to $\\gamma$.\n",
    "\n",
    "Let us demonstrate the extraction of $\\gamma = \\log(2)$ for the toric code:"
   ]
  },
  {
   "cell_type": "code",
   "execution_count": 11,
   "metadata": {},
   "outputs": [
    {
     "name": "stdout",
     "output_type": "stream",
     "text": [
      "================================================================================\n",
      "Start iDMRG for Ly=2, J_WL=5.00, J_HL=5.00, h=0.00\n",
      "after first DMRG run: <psi|W|psi> =  1.000\n",
      "after first DMRG run: <psi|H|psi> =  1.000\n",
      "after first DMRG run: E (including W/H loops) = -3.5000000000\n",
      "after first DMRG run: E (excluding W/H loops) = -1.0000000000\n",
      "after second DMRG run: <psi|W|psi> =  1.000\n",
      "after second DMRG run: <psi|H|psi> =  1.000\n",
      "after second DMRG run: E (excluding W/H loops) = -1.0000000000\n",
      "max chi:  4\n",
      "================================================================================\n",
      "Start iDMRG for Ly=3, J_WL=5.00, J_HL=5.00, h=0.00\n",
      "after first DMRG run: <psi|W|psi> =  1.000\n",
      "after first DMRG run: <psi|H|psi> =  1.000\n",
      "after first DMRG run: E (including W/H loops) = -2.6666666667\n",
      "after first DMRG run: E (excluding W/H loops) = -1.0000000000\n",
      "after second DMRG run: <psi|W|psi> =  1.000\n",
      "after second DMRG run: <psi|H|psi> =  1.000\n",
      "after second DMRG run: E (excluding W/H loops) = -1.0000000000\n",
      "max chi:  8\n",
      "================================================================================\n",
      "Start iDMRG for Ly=4, J_WL=5.00, J_HL=5.00, h=0.00\n",
      "after first DMRG run: <psi|W|psi> =  1.000\n",
      "after first DMRG run: <psi|H|psi> =  1.000\n",
      "after first DMRG run: E (including W/H loops) = -2.2500000000\n",
      "after first DMRG run: E (excluding W/H loops) = -1.0000000000\n",
      "after second DMRG run: <psi|W|psi> =  1.000\n",
      "after second DMRG run: <psi|H|psi> =  1.000\n",
      "after second DMRG run: E (excluding W/H loops) = -1.0000000000\n",
      "max chi:  16\n",
      "================================================================================\n",
      "Start iDMRG for Ly=5, J_WL=5.00, J_HL=5.00, h=0.00\n",
      "after first DMRG run: <psi|W|psi> =  1.000\n",
      "after first DMRG run: <psi|H|psi> =  1.000\n",
      "after first DMRG run: E (including W/H loops) = -2.0000000000\n",
      "after first DMRG run: E (excluding W/H loops) = -1.0000000000\n",
      "after second DMRG run: <psi|W|psi> =  1.000\n",
      "after second DMRG run: <psi|H|psi> =  1.000\n",
      "after second DMRG run: E (excluding W/H loops) = -1.0000000000\n",
      "max chi:  32\n",
      "================================================================================\n",
      "Start iDMRG for Ly=6, J_WL=5.00, J_HL=5.00, h=0.00\n",
      "after first DMRG run: <psi|W|psi> =  1.000\n",
      "after first DMRG run: <psi|H|psi> =  1.000\n",
      "after first DMRG run: E (including W/H loops) = -1.8333333333\n",
      "after first DMRG run: E (excluding W/H loops) = -1.0000000000\n",
      "after second DMRG run: <psi|W|psi> =  1.000\n",
      "after second DMRG run: <psi|H|psi> =  1.000\n",
      "after second DMRG run: E (excluding W/H loops) = -1.0000000000\n",
      "max chi:  64\n"
     ]
    }
   ],
   "source": [
    "model_params['order'] = 'Cstyle' # The effect doesn't appear with the \"default\" ordering for the toric code.\n",
    "# This is also a hint that you need bond 0: you want something independent of what order you choose\n",
    "# inside the MPS unit cell.\n",
    "\n",
    "results_Ly = {}\n",
    "\n",
    "for Ly in range(2, 7):\n",
    "    results_Ly[Ly] = run_DMRG(Ly, 5., 5.)"
   ]
  },
  {
   "cell_type": "code",
   "execution_count": 12,
   "metadata": {},
   "outputs": [
    {
     "data": {
      "image/png": "[encoded data removed]",
      "text/plain": [
       "<Figure size 1050x750 with 1 Axes>"
      ]
     },
     "metadata": {
      "needs_background": "light"
     },
     "output_type": "display_data"
    }
   ],
   "source": [
    "Lys = np.array(list(results_Ly.keys()))\n",
    "S0s = np.array([res['psi'].entanglement_entropy()[0] for res in results_Ly.values()])\n",
    "S1s = np.array([res['psi'].entanglement_entropy()[2] for res in results_Ly.values()])\n",
    "\n",
    "plt.figure(figsize=(7, 5))\n",
    "ax = plt.gca()\n",
    "ax.plot(Lys, S0s / np.log(2), 'bo', label='data at bond 0')\n",
    "ax.plot(Lys, S1s / np.log(2), 'rs', label='data at wrong bond')\n",
    "Lys_all = np.arange(0., max(Lys) + 2.)\n",
    "ax.plot(Lys_all, Lys_all - 1., '-', label='expected: $L_y - 1$')\n",
    "ax.axhline(0., linestyle='--', color='k')\n",
    "ax.set_xlabel('$L_y$')\n",
    "ax.set_ylabel('$S / log(2)$')\n",
    "\n",
    "ax.legend()\n",
    "plt.show()\n"
   ]
  },
  {
   "cell_type": "markdown",
   "metadata": {},
   "source": [
    "As expected, We find the scaling $S(L_y) = \\log(2) L_y - \\log(2)$ at bond 0, indicating that $\\gamma = \\log(2)$. \n",
    "Cutting the MPS at bond 1 (red points) is a \"wired\" cut of the cylinder and does not show the expected scaling."
   ]
  },
  {
   "cell_type": "code",
   "execution_count": null,
   "metadata": {},
   "outputs": [],
   "source": []
  }
 ],
 "metadata": {
  "kernelspec": {
   "display_name": "Python 3 (ipykernel)",
   "language": "python",
   "name": "python3"
  },
  "language_info": {
   "codemirror_mode": {
    "name": "ipython",
    "version": 3
   },
   "file_extension": ".py",
   "mimetype": "text/x-python",
   "name": "python",
   "nbconvert_exporter": "python",
   "pygments_lexer": "ipython3",
   "version": "3.8.5"
  }
 },
 "nbformat": 4,
 "nbformat_minor": 4
}
