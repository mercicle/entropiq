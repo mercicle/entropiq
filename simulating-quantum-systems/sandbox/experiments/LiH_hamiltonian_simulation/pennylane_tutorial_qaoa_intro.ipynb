{
 "cells": [
  {
   "cell_type": "code",
   "execution_count": null,
   "metadata": {},
   "outputs": [],
   "source": [
    "# This cell is added by sphinx-gallery\n",
    "# It can be customized to whatever you like\n",
    "%matplotlib inline"
   ]
  },
  {
   "cell_type": "markdown",
   "metadata": {},
   "source": [
    "Intro to QAOA\n",
    "=============\n",
    "\n",
    "::: {.meta}\n",
    ":property=\\\"og:description\\\": Learn how to implement QAOA with PennyLane\n",
    ":property=\\\"og:image\\\":\n",
    "<https://pennylane.ai/qml/_images/qaoa_layer.png>\n",
    ":::\n",
    "\n",
    "::: {.related}\n",
    "tutorial\\_qaoa\\_maxcut QAOA for MaxCut\n",
    ":::\n",
    "\n",
    "*Author: Jack Ceroni. Posted: 18 Nov 2020. Last updated: 11 Jan 2021.*\n",
    "\n",
    "The Quantum Approximate Optimization Algorithm (QAOA) is a\n",
    "widely-studied method for solving combinatorial optimization problems on\n",
    "NISQ devices. The applications of QAOA are broad and far-reaching, and\n",
    "the performance of the algorithm is of great interest to the quantum\n",
    "computing research community.\n",
    "\n",
    "![](../demonstrations/qaoa_module/qaoa_circuit.png){.align-center\n",
    "width=\"90.0%\"}\n",
    "\n",
    "The goal of this tutorial is to introduce the basic concepts of QAOA and\n",
    "to guide you through PennyLane\\'s built-in QAOA functionality. You will\n",
    "learn how to use time evolution to establish a connection between\n",
    "Hamiltonians and quantum circuits, and how to layer these circuits to\n",
    "create more powerful algorithms. These simple ingredients, together with\n",
    "the ability to optimize quantum circuits, are the building blocks of\n",
    "QAOA. By focusing on the fundamentals, PennyLane provides general and\n",
    "flexible capabilities that can be tailored and refined to implement QAOA\n",
    "for a wide variety of problems. In the last part of the tutorial, you\n",
    "will learn how to bring these pieces together and deploy a complete QAOA\n",
    "workflow to solve the minimum vertex cover problem. Let\\'s get started!\n",
    "🎉\n",
    "\n",
    "Circuits and Hamiltonians\n",
    "-------------------------\n",
    "\n",
    "When considering quantum circuits, it is often convenient to define them\n",
    "by a series of quantum gates. But there are many instances where it is\n",
    "useful to think of a quantum circuit in terms of a\n",
    "[Hamiltonian](https://en.wikipedia.org/wiki/Hamiltonian_(quantum_mechanics)).\n",
    "Indeed, gates are physically implemented by performing time evolution\n",
    "under a carefully engineered Hamiltonian. These transformations are\n",
    "described by the time evolution operator, which is a unitary defined as:\n"
   ]
  },
  {
   "cell_type": "markdown",
   "metadata": {},
   "source": [
    "$$U(H, \\ t) \\ = \\ e^{-i H t / \\hbar}.$$\n",
    "\n",
    "The time evolution operator is determined completely in terms of a\n",
    "Hamiltonian $H$ and a scalar $t$ representing time. In fact, any unitary\n",
    "$U$ can be written in the form $e^{i \\gamma H}$, where $\\gamma$ is a\n",
    "scalar and $H$ is a Hermitian operator, interpreted as a Hamiltonian.\n",
    "Thus, time evolution establishes a connection that allows us to describe\n",
    "quantum circuits in terms of Hamiltonians. 🤯\n",
    "\n",
    "In general, implementing a quantum circuit that exactly exponentiates a\n",
    "Hamiltonian with many non-commuting terms, i.e., a Hamiltonian of the\n",
    "form:\n",
    "\n",
    "$$H \\ = \\ H_1 \\ + \\ H_2 \\ + \\ H_3 \\ + \\ \\cdots \\ + \\ H_N,$$\n",
    "\n",
    "is very challenging. Instead, we can use the\n",
    "[Trotter-Suzuki](https://en.wikipedia.org/wiki/Lie_product_formula)\n",
    "decomposition formula\n",
    "\n",
    "$$e^{A \\ + \\ B} \\ \\approx \\ \\Big(e^{A/n} e^{B/n}\\Big)^{n},$$\n",
    "\n",
    "to implement an *approximate* time-evolution unitary:\n",
    "\n",
    "$$U(H, t, n) \\ = \\ \\displaystyle\\prod_{j \\ = \\ 1}^{n}\n",
    "\\displaystyle\\prod_{k} e^{-i H_k t / n} \\ \\ \\ \\ \\ \\ \\ \\ \\ \\ H \\\n",
    "= \\ \\displaystyle\\sum_{k} H_k,$$\n",
    "\n",
    "where $U$ approaches $e^{-i H t}$ as $n$ becomes larger.\n",
    "\n",
    "![](../demonstrations/qaoa_module/ham_circuit.png){.align-center\n",
    "width=\"70.0%\"}\n",
    "\n",
    "In PennyLane, this is implemented using the\n",
    "`~.pennylane.templates.ApproxTimeEvolution`{.interpreted-text\n",
    "role=\"func\"} template. For example, let\\'s say we have the following\n",
    "Hamiltonian:\n"
   ]
  },
  {
   "cell_type": "code",
   "execution_count": null,
   "metadata": {},
   "outputs": [],
   "source": [
    "import pennylane as qml\n",
    "\n",
    "H = qml.Hamiltonian(\n",
    "    [1, 1, 0.5],\n",
    "    [qml.PauliX(0), qml.PauliZ(1), qml.PauliX(0) @ qml.PauliX(1)]\n",
    ")\n",
    "print(H)"
   ]
  },
  {
   "cell_type": "markdown",
   "metadata": {},
   "source": [
    "We can implement the approximate time-evolution operator corresponding\n",
    "to this Hamiltonian:\n"
   ]
  },
  {
   "cell_type": "code",
   "execution_count": null,
   "metadata": {},
   "outputs": [],
   "source": [
    "dev = qml.device('default.qubit', wires=2)\n",
    "\n",
    "t = 1\n",
    "n = 2\n",
    "\n",
    "@qml.qnode(dev)\n",
    "def circuit():\n",
    "    qml.ApproxTimeEvolution(H, t, n)\n",
    "    return [qml.expval(qml.PauliZ(i)) for i in range(2)]\n",
    "\n",
    "print(qml.draw(circuit, expansion_strategy='device')())"
   ]
  },
  {
   "cell_type": "markdown",
   "metadata": {},
   "source": [
    "Layering circuits\n",
    "=================\n",
    "\n",
    "Think of all the times you have copied a text or image, then pasted it\n",
    "repeatedly to create many duplicates. This is also a useful feature when\n",
    "designing quantum algorithms! The idea of repetition is ubiquitous in\n",
    "quantum computing: from amplitude amplification in [Grover's\n",
    "algorithm](https://en.wikipedia.org/wiki/Grover%27s_algorithm) to layers\n",
    "in [quantum neural\n",
    "networks](https://journals.aps.org/prresearch/abstract/10.1103/PhysRevResearch.1.033063)\n",
    "and [Hamiltonian\n",
    "simulation](https://en.wikipedia.org/wiki/Hamiltonian_simulation),\n",
    "repeated application of a circuit is a central tool in quantum\n",
    "algorithms.\n",
    "\n",
    "![](../demonstrations/qaoa_module/repeat.png){.align-center\n",
    "width=\"100.0%\"}\n",
    "\n",
    "Circuit repetition is implemented in PennyLane using the\n",
    "`~.pennylane.layer`{.interpreted-text role=\"func\"} function. This method\n",
    "allows us to take a function containing either quantum operations, a\n",
    "template, or even a single quantum gate, and repeatedly apply it to a\n",
    "set of wires.\n",
    "\n",
    "![](../demonstrations/qaoa_module/qml_layer.png){.align-center\n",
    "width=\"90.0%\"}\n",
    "\n",
    "To create a larger circuit consisting of many repetitions, we pass the\n",
    "circuit to be repeated as an argument and specify the number of\n",
    "repetitions. For example, let\\'s say that we want to layer the following\n",
    "circuit three times:\n"
   ]
  },
  {
   "cell_type": "code",
   "execution_count": null,
   "metadata": {},
   "outputs": [],
   "source": [
    "def circ(theta):\n",
    "    qml.RX(theta, wires=0)\n",
    "    qml.Hadamard(wires=1)\n",
    "    qml.CNOT(wires=[0, 1])\n",
    "\n",
    "@qml.qnode(dev)\n",
    "def circuit(param):\n",
    "    circ(param)\n",
    "    return [qml.expval(qml.PauliZ(i)) for i in range(2)]\n",
    "\n",
    "print(qml.draw(circuit)(0.5))"
   ]
  },
  {
   "cell_type": "markdown",
   "metadata": {},
   "source": [
    "We simply pass this function into the\n",
    "`~.pennylane.layer`{.interpreted-text role=\"func\"} function:\n"
   ]
  },
  {
   "cell_type": "code",
   "execution_count": null,
   "metadata": {},
   "outputs": [],
   "source": [
    "@qml.qnode(dev)\n",
    "def circuit(params, **kwargs):\n",
    "    qml.layer(circ, 3, params)\n",
    "    return [qml.expval(qml.PauliZ(i)) for i in range(2)]\n",
    "\n",
    "print(qml.draw(circuit)([0.3, 0.4, 0.5]))"
   ]
  },
  {
   "cell_type": "markdown",
   "metadata": {},
   "source": [
    "We have learned how time evolution can be used to create circuits from\n",
    "Hamiltonians, and how these can be layered to create longer circuits. We\n",
    "are now ready to explore QAOA.\n"
   ]
  },
  {
   "cell_type": "markdown",
   "metadata": {},
   "source": [
    "QAOA\n",
    "====\n",
    "\n",
    "The quantum approximate optimization algorithm (QAOA) is a general\n",
    "technique that can be used to find approximate solutions to\n",
    "combinatorial optimization problems, in particular problems that can be\n",
    "cast as searching for an optimal bitstring. QAOA consists of the\n",
    "following steps:\n",
    "\n",
    "1.  Define a *cost Hamiltonian* $H_C$ such that its ground state encodes\n",
    "    the solution to the optimization problem.\n",
    "\n",
    "2.  Define a *mixer Hamiltonian* $H_M$.\n",
    "\n",
    "3.  Construct the circuits $e^{-i \\gamma H_C}$ and $e^{-i\\alpha H_M}$.\n",
    "    We call these the *cost* and *mixer layers*, respectively.\n",
    "\n",
    "4.  Choose a parameter $n\\geq 1$ and build the circuit\n",
    "\n",
    "    $$U(\\boldsymbol\\gamma, \\ \\boldsymbol\\alpha) \\ = \\ e^{-i \\alpha_n H_M}\n",
    "    e^{-i \\gamma_n H_C} \\ ... \\ e^{-i \\alpha_1 H_M} e^{-i \\gamma_1 H_C},$$\n",
    "\n",
    "    consisting of repeated application of the cost and mixer layers.\n",
    "\n",
    "5.  Prepare an initial state, apply\n",
    "    $U(\\boldsymbol\\gamma,\\boldsymbol\\alpha)$, and use classical\n",
    "    techniques to optimize the parameters.\n",
    "\n",
    "6.  After the circuit has been optimized, measurements of the output\n",
    "    state reveal approximate solutions to the optimization problem.\n",
    "\n",
    "In summary, the starting point of QAOA is the specification of cost and\n",
    "mixer Hamiltonians. We then use time evolution and layering to create a\n",
    "variational circuit and optimize its parameters. The algorithm concludes\n",
    "by sampling from the circuit to get an approximate solution to the\n",
    "optimization problem. Let\\'s see it in action! 🚀\n"
   ]
  },
  {
   "cell_type": "markdown",
   "metadata": {},
   "source": [
    "Minimum Vertex Cover with QAOA\n",
    "==============================\n",
    "\n",
    "Our goal is to find the [minimum vertex\n",
    "cover](https://en.wikipedia.org/wiki/Vertex_cover) of a graph: a\n",
    "collection of vertices such that each edge in the graph contains at\n",
    "least one of the vertices in the cover. Hence, these vertices \\\"cover\\\"\n",
    "all the edges 👍. We wish to find the vertex cover that has the smallest\n",
    "possible number of vertices.\n",
    "\n",
    "Vertex covers can be represented by a bit string where each bit denotes\n",
    "whether the corresponding vertex is present in the cover. For example,\n",
    "the bit string 01010 represents a cover consisting of the second and\n",
    "fourth vertex in a graph with five vertices.\n",
    "\n",
    "![](../demonstrations/qaoa_module/minvc.png){.align-center\n",
    "width=\"90.0%\"}\n",
    "\n",
    "To implement QAOA with PennyLane, we first import the necessary\n",
    "dependencies:\n"
   ]
  },
  {
   "cell_type": "code",
   "execution_count": null,
   "metadata": {},
   "outputs": [],
   "source": [
    "from pennylane import qaoa\n",
    "from pennylane import numpy as np\n",
    "from matplotlib import pyplot as plt\n",
    "import networkx as nx"
   ]
  },
  {
   "cell_type": "markdown",
   "metadata": {},
   "source": [
    "We also define the four-vertex graph for which we want to find the\n",
    "minimum vertex cover:\n"
   ]
  },
  {
   "cell_type": "code",
   "execution_count": null,
   "metadata": {},
   "outputs": [],
   "source": [
    "edges = [(0, 1), (1, 2), (2, 0), (2, 3)]\n",
    "graph = nx.Graph(edges)\n",
    "\n",
    "nx.draw(graph, with_labels=True)\n",
    "plt.show()"
   ]
  },
  {
   "cell_type": "markdown",
   "metadata": {},
   "source": [
    "There are two minimum vertex covers of this graph: the vertices 0 and 2,\n",
    "and the vertices 1 and 2. These can be respectively represented by the\n",
    "bit strings 1010 and 0110. The goal of the algorithm is to sample these\n",
    "bit strings with high probability.\n",
    "\n",
    "The PennyLane QAOA module has a collection of built-in optimization\n",
    "problems, including minimum vertex cover. For each problem, you can\n",
    "retrieve the cost Hamiltonian as well as a recommended mixer\n",
    "Hamiltonian. This makes it straightforward to obtain the Hamiltonians\n",
    "for specific problems while still permitting the flexibility to make\n",
    "other choices, for example by adding constraints or experimenting with\n",
    "different mixers.\n",
    "\n",
    "In our case, the cost Hamiltonian has two ground states, $|1010\\rangle$\n",
    "and $|0110\\rangle$, coinciding with the solutions of the problem. The\n",
    "mixer Hamiltonian is the simple, non-commuting sum of Pauli-X operations\n",
    "on each node of the graph:\n"
   ]
  },
  {
   "cell_type": "code",
   "execution_count": null,
   "metadata": {},
   "outputs": [],
   "source": [
    "cost_h, mixer_h = qaoa.min_vertex_cover(graph, constrained=False)\n",
    "\n",
    "print(\"Cost Hamiltonian\", cost_h)\n",
    "print(\"Mixer Hamiltonian\", mixer_h)"
   ]
  },
  {
   "cell_type": "markdown",
   "metadata": {},
   "source": [
    "A single layer of QAOA consists of time evolution under these\n",
    "Hamiltonians:\n",
    "\n",
    "![](../demonstrations/qaoa_module/layer.png){.align-center\n",
    "width=\"90.0%\"}\n",
    "\n",
    "While it is possible to use\n",
    "`~.pennylane.templates.ApproxTimeEvolution`{.interpreted-text\n",
    "role=\"func\"}, the QAOA module allows you to build the cost and mixer\n",
    "layers directly using the functions\n",
    "`~.pennylane.qaoa.cost_layer`{.interpreted-text role=\"func\"} and\n",
    "`~.pennylane.qaoa.mixer_layer`{.interpreted-text role=\"func\"}, which\n",
    "take as input the respective Hamiltonian and variational parameters:\n"
   ]
  },
  {
   "cell_type": "code",
   "execution_count": null,
   "metadata": {},
   "outputs": [],
   "source": [
    "def qaoa_layer(gamma, alpha):\n",
    "    qaoa.cost_layer(gamma, cost_h)\n",
    "    qaoa.mixer_layer(alpha, mixer_h)"
   ]
  },
  {
   "cell_type": "markdown",
   "metadata": {},
   "source": [
    "We are now ready to build the full variational circuit. The number of\n",
    "wires is equal to the number of vertices of the graph. We initialize the\n",
    "state to an even superposition over all basis states. For this example,\n",
    "we employ a circuit consisting of two QAOA layers:\n"
   ]
  },
  {
   "cell_type": "code",
   "execution_count": null,
   "metadata": {},
   "outputs": [],
   "source": [
    "wires = range(4)\n",
    "depth = 2\n",
    "\n",
    "def circuit(params, **kwargs):\n",
    "    for w in wires:\n",
    "        qml.Hadamard(wires=w)\n",
    "    qml.layer(qaoa_layer, depth, params[0], params[1])"
   ]
  },
  {
   "cell_type": "markdown",
   "metadata": {},
   "source": [
    "Note that `~.pennylane.layer`{.interpreted-text role=\"func\"} allows us\n",
    "to pass variational parameters `params[0]` and `params[1]` into each\n",
    "layer of the circuit. That\\'s it! The last step is PennyLane\\'s\n",
    "specialty: optimizing the circuit parameters.\n",
    "\n",
    "The cost function is the expectation value of $H_C$, which we want to\n",
    "minimize. We use the function `~.pennylane.expval`{.interpreted-text\n",
    "role=\"func\"} which returns the expectation value of the Hamiltonian with\n",
    "respect to the circuit\\'s output state. We also define the device on\n",
    "which the simulation is performed. We use the PennyLane-Qulacs plugin to\n",
    "run the circuit on the Qulacs simulator:\n"
   ]
  },
  {
   "cell_type": "code",
   "execution_count": null,
   "metadata": {},
   "outputs": [],
   "source": [
    "dev = qml.device(\"qulacs.simulator\", wires=wires)\n",
    "\n",
    "@qml.qnode(dev)\n",
    "def cost_function(params):\n",
    "    circuit(params)\n",
    "    return qml.expval(cost_h)"
   ]
  },
  {
   "cell_type": "markdown",
   "metadata": {},
   "source": [
    "Finally, we optimize the cost function using the built-in\n",
    "`~.pennylane.GradientDescentOptimizer`{.interpreted-text role=\"func\"}.\n",
    "We perform optimization for seventy steps and initialize the parameters:\n"
   ]
  },
  {
   "cell_type": "code",
   "execution_count": null,
   "metadata": {},
   "outputs": [],
   "source": [
    "optimizer = qml.GradientDescentOptimizer()\n",
    "steps = 70\n",
    "params = np.array([[0.5, 0.5], [0.5, 0.5]], requires_grad=True)"
   ]
  },
  {
   "cell_type": "markdown",
   "metadata": {},
   "source": [
    "Notice that we set each of the initial parameters to $0.5$. For\n",
    "demonstration purposes, we chose initial parameters that we know work\n",
    "fairly well, and don\\'t get stuck in any local minima.\n",
    "\n",
    "The choice of initial parameters for a variational circuit is usually a\n",
    "difficult problem, so we won\\'t linger on it too much in this tutorial,\n",
    "but it is important to note that finding an initial set of parameters\n",
    "that work well for a few toy problems often yields good results for more\n",
    "complex instances of the algorithm as well.\n",
    "\n",
    "Now, we can optimize the circuit:\n"
   ]
  },
  {
   "cell_type": "code",
   "execution_count": null,
   "metadata": {},
   "outputs": [],
   "source": [
    "for i in range(steps):\n",
    "    params = optimizer.step(cost_function, params)\n",
    "\n",
    "print(\"Optimal Parameters\")\n",
    "print(params)"
   ]
  },
  {
   "cell_type": "markdown",
   "metadata": {},
   "source": [
    "With the optimal parameters, we can now reconstruct the probability\n",
    "landscape. We redefine the full QAOA circuit with the optimal\n",
    "parameters, but this time we return the probabilities of measuring each\n",
    "bitstring:\n"
   ]
  },
  {
   "cell_type": "code",
   "execution_count": null,
   "metadata": {},
   "outputs": [],
   "source": [
    "@qml.qnode(dev)\n",
    "def probability_circuit(gamma, alpha):\n",
    "    circuit([gamma, alpha])\n",
    "    return qml.probs(wires=wires)\n",
    "\n",
    "\n",
    "probs = probability_circuit(params[0], params[1])"
   ]
  },
  {
   "cell_type": "markdown",
   "metadata": {},
   "source": [
    "Finally, we can display a bar graph showing the probability of measuring\n",
    "each bitstring:\n"
   ]
  },
  {
   "cell_type": "code",
   "execution_count": null,
   "metadata": {},
   "outputs": [],
   "source": [
    "plt.style.use(\"seaborn\")\n",
    "plt.bar(range(2 ** len(wires)), probs)\n",
    "plt.show()"
   ]
  },
  {
   "cell_type": "markdown",
   "metadata": {},
   "source": [
    "The states $|6\\rangle \\ = \\ |0110\\rangle$ and\n",
    "$|10\\rangle \\ = \\ |1010\\rangle$ have the highest probabilities of being\n",
    "measured, just as expected!\n",
    "\n",
    "![](../demonstrations/qaoa_module/graph.png){.align-center\n",
    "width=\"90.0%\"}\n"
   ]
  },
  {
   "cell_type": "markdown",
   "metadata": {},
   "source": [
    "Customizing QAOA\n",
    "================\n",
    "\n",
    "QAOA is not one-size-fits-all when it comes to solving optimization\n",
    "problems. In many cases, cost and mixer Hamiltonians will be very\n",
    "specific to one scenario, and not necessarily fit within the structure\n",
    "of the pre-defined problems in the `~.pennylane.qaoa`{.interpreted-text\n",
    "role=\"func\"} submodule. Luckily, one of the core principles behind the\n",
    "entire PennyLane library is customizability, and this principle hold\n",
    "true for QAOA submodule as well!\n",
    "\n",
    "The QAOA workflow above gave us two optimal solutions:\n",
    "$|6\\rangle = |0110\\rangle$ and $|10\\rangle = |1010\\rangle$. What if we\n",
    "add a constraint that made one of these solutions \\\"better\\\" than the\n",
    "other? Let\\'s imagine that we are interested in solutions that minimize\n",
    "the original cost function, *but also colour the first and third\n",
    "vertices* $1$. A constraint of this form will favour $|10\\rangle$,\n",
    "making it the only true ground state.\n",
    "\n",
    "It is easy to introduce constraints of this form in PennyLane. We can\n",
    "use the `~.pennylane.qaoa.edge_driver`{.interpreted-text role=\"func\"}\n",
    "cost Hamiltonian to \\\"reward\\\" cases in which the first and last\n",
    "vertices of the graph are $0$:\n"
   ]
  },
  {
   "cell_type": "code",
   "execution_count": null,
   "metadata": {},
   "outputs": [],
   "source": [
    "reward_h = qaoa.edge_driver(nx.Graph([(0, 2)]), ['11'])"
   ]
  },
  {
   "cell_type": "markdown",
   "metadata": {},
   "source": [
    "We then weigh and add the constraining term to the original minimum\n",
    "vertex cover Hamiltonian:\n"
   ]
  },
  {
   "cell_type": "code",
   "execution_count": null,
   "metadata": {},
   "outputs": [],
   "source": [
    "new_cost_h = cost_h + 2 * reward_h"
   ]
  },
  {
   "cell_type": "markdown",
   "metadata": {},
   "source": [
    "Notice that PennyLane allows for simple addition and multiplication of\n",
    "Hamiltonian objects using inline arithmetic operations ➕ ➖ ✖️➗! Finally,\n",
    "we can use this new cost Hamiltonian to define a new QAOA workflow:\n"
   ]
  },
  {
   "cell_type": "code",
   "execution_count": null,
   "metadata": {},
   "outputs": [],
   "source": [
    "def qaoa_layer(gamma, alpha):\n",
    "    qaoa.cost_layer(gamma, new_cost_h)\n",
    "    qaoa.mixer_layer(alpha, mixer_h)\n",
    "\n",
    "def circuit(params, **kwargs):\n",
    "    for w in wires:\n",
    "        qml.Hadamard(wires=w)\n",
    "    qml.layer(qaoa_layer, depth, params[0], params[1])\n",
    "\n",
    "@qml.qnode(dev)\n",
    "def cost_function(params):\n",
    "    circuit(params)\n",
    "    return qml.expval(new_cost_h)\n",
    "\n",
    "params = np.array([[0.5, 0.5], [0.5, 0.5]], requires_grad=True)\n",
    "\n",
    "for i in range(steps):\n",
    "    params = optimizer.step(cost_function, params)\n",
    "\n",
    "print(\"Optimal Parameters\")\n",
    "print(params)"
   ]
  },
  {
   "cell_type": "markdown",
   "metadata": {},
   "source": [
    "We then reconstruct the probability landscape with the optimal\n",
    "parameters:\n"
   ]
  },
  {
   "cell_type": "code",
   "execution_count": null,
   "metadata": {},
   "outputs": [],
   "source": [
    "@qml.qnode(dev)\n",
    "def probability_circuit(gamma, alpha):\n",
    "    circuit([gamma, alpha])\n",
    "    return qml.probs(wires=wires)\n",
    "\n",
    "probs = probability_circuit(params[0], params[1])\n",
    "\n",
    "plt.style.use(\"seaborn\")\n",
    "plt.bar(range(2 ** len(wires)), probs)\n",
    "plt.show()"
   ]
  },
  {
   "cell_type": "markdown",
   "metadata": {},
   "source": [
    "Just as we expected, the $|10\\rangle$ state is now favoured over\n",
    "$|6\\rangle$!\n"
   ]
  },
  {
   "cell_type": "markdown",
   "metadata": {},
   "source": [
    "Conclusion\n",
    "==========\n",
    "\n",
    "You have learned how to use the PennyLane QAOA functionality, while also\n",
    "surveying some of the fundamental features that make the QAOA module\n",
    "simple and flexible. Now, it\\'s your turn to experiment with QAOA! If\n",
    "you need some inspiration for how to get started:\n",
    "\n",
    "-   Experiment with different optimizers and different devices. Which\n",
    "    ones work the best?\n",
    "-   Play around with some of the other built-in cost and mixer\n",
    "    Hamiltonians.\n",
    "-   Try making your own custom constraining terms. Is QAOA properly\n",
    "    amplifying some bitstrings over others?\n",
    "\n",
    "![](../demonstrations/qaoa_module/qaoa_circuit.png){.align-center\n",
    "width=\"90.0%\"}\n"
   ]
  }
 ],
 "metadata": {
  "kernelspec": {
   "display_name": "Python 3 (ipykernel)",
   "language": "python",
   "name": "python3"
  },
  "language_info": {
   "codemirror_mode": {
    "name": "ipython",
    "version": 3
   },
   "file_extension": ".py",
   "mimetype": "text/x-python",
   "name": "python",
   "nbconvert_exporter": "python",
   "pygments_lexer": "ipython3",
   "version": "3.9.7"
  }
 },
 "nbformat": 4,
 "nbformat_minor": 1
}
