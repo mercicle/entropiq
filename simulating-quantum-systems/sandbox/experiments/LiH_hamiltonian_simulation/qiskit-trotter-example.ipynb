{
 "cells": [
  {
   "cell_type": "code",
   "execution_count": null,
   "id": "d2f22d6a",
   "metadata": {},
   "outputs": [],
   "source": [
    "!pip3 install pylatexenc"
   ]
  },
  {
   "cell_type": "code",
   "execution_count": 38,
   "id": "ecbff4c6",
   "metadata": {},
   "outputs": [
    {
     "data": {
      "image/png": "[encoded data removed]",
      "text/plain": [
       "<Figure size 929.397x204.68 with 1 Axes>"
      ]
     },
     "execution_count": 38,
     "metadata": {},
     "output_type": "execute_result"
    }
   ],
   "source": [
    "from qiskit.opflow import X, Y, Z, I, PauliTrotterEvolution\n",
    "from qiskit.circuit import Parameter\n",
    "\n",
    "import os\n",
    "out_dir = os.getcwd()+'/out_data/'\n",
    "if not os.path.exists(out_dir):\n",
    "    os.makedirs(out_dir)\n",
    "    \n",
    "\n",
    "hamiltonian = (X^X^Z) + (Z^X^Z)\n",
    "evo_time = 1\n",
    "evolution_op = (evo_time*hamiltonian).exp_i()\n",
    "num_time_slices = 1\n",
    "trotterized_op = PauliTrotterEvolution(\n",
    "                    trotter_mode='trotter',\n",
    "                    reps=num_time_slices).convert(evolution_op)\n",
    "trot_op_circ = trotterized_op.to_circuit()\n",
    "\n",
    "trot_op_circ = trot_op_circ.decompose()\n",
    "trot_op_circ = trot_op_circ.decompose()\n",
    "#trot_op_circ = trot_op_circ.decompose()\n",
    "\n",
    "trot_op_circ.draw('mpl')\n",
    "\n"
   ]
  },
  {
   "cell_type": "code",
   "execution_count": 26,
   "id": "50b310da",
   "metadata": {},
   "outputs": [
    {
     "name": "stdout",
     "output_type": "stream",
     "text": [
      "14\n"
     ]
    }
   ],
   "source": [
    "submit_depth = trot_op_circ_decomp.depth()\n",
    "print(submit_depth)"
   ]
  },
  {
   "cell_type": "code",
   "execution_count": 27,
   "id": "a174816d",
   "metadata": {},
   "outputs": [
    {
     "name": "stdout",
     "output_type": "stream",
     "text": [
      "# of Cx gates: 8\n"
     ]
    }
   ],
   "source": [
    "gate_count_dict = trot_op_circ_decomp.count_ops()\n",
    "submit_two_qubit_gate_count = gate_count_dict['cx']\n",
    "print(\"# of Cx gates: \"+str(submit_two_qubit_gate_count))"
   ]
  },
  {
   "cell_type": "code",
   "execution_count": 28,
   "id": "84315359",
   "metadata": {},
   "outputs": [
    {
     "data": {
      "text/plain": [
       "'OPENQASM 2.0;\\ninclude \"qelib1.inc\";\\nqreg q[3];\\nh q[1];\\nh q[2];\\ncx q[2],q[1];\\ncx q[1],q[0];\\nrz(2) q[0];\\ncx q[1],q[0];\\ncx q[2],q[1];\\nh q[1];\\nh q[1];\\nh q[2];\\ncx q[2],q[1];\\ncx q[1],q[0];\\nrz(2) q[0];\\ncx q[1],q[0];\\ncx q[2],q[1];\\nh q[1];\\n'"
      ]
     },
     "execution_count": 28,
     "metadata": {},
     "output_type": "execute_result"
    }
   ],
   "source": [
    "trot_op_circ.qasm(filename = out_dir+'qasm_example')"
   ]
  },
  {
   "cell_type": "code",
   "execution_count": 31,
   "id": "7e9cdecd",
   "metadata": {},
   "outputs": [
    {
     "data": {
      "text/latex": [
       "$$\n",
       "\n",
       "\\begin{bmatrix}\n",
       "-0.01 & 0 & 0 & 0 & 0 & 0 & 0 & 0  \\\\\n",
       " 0 & 19.19 & -7.8 & 0 & 0 & 0 & 0 & 0  \\\\\n",
       " 0 & -7.8 & 12.23 & 0 & -4.28 & 0 & 0 & 0  \\\\\n",
       " 0 & 0 & 0 & 31.43 & 0 & -4.28 & 0 & 0  \\\\\n",
       " 0 & 0 & -4.28 & 0 & -0.43 & 0 & 0 & 0  \\\\\n",
       " 0 & 0 & 0 & -4.28 & 0 & 18.77 & -7.8 & 0  \\\\\n",
       " 0 & 0 & 0 & 0 & 0 & -7.8 & 11.81 & 0  \\\\\n",
       " 0 & 0 & 0 & 0 & 0 & 0 & 0 & 31.01  \\\\\n",
       " \\end{bmatrix}\n",
       "$$"
      ],
      "text/plain": [
       "<IPython.core.display.Latex object>"
      ]
     },
     "execution_count": 31,
     "metadata": {},
     "output_type": "execute_result"
    }
   ],
   "source": [
    "from qiskit.visualization.array import array_to_latex\n",
    "H = 5.9*(I^I^I) + 0.21*(Z^I^I) - 6.12*(I^Z^I) - 2.14*(X^X^I) - 2.14*(Y^Y^I) + 9.6*(I^I^I) - 9.6*(I^I^Z) - 3.9*(I^X^X) - 3.9*(I^Y^Y)\n",
    "\n",
    "H_matrix = H.to_matrix()\n",
    "array_to_latex(H_matrix)\n"
   ]
  },
  {
   "cell_type": "code",
   "execution_count": 36,
   "id": "0a507846",
   "metadata": {},
   "outputs": [],
   "source": [
    "import qiskit.quantum_info as qi\n",
    "\n",
    "op = qi.SparsePauliOp.from_list([(\"XIIZI\", 1), (\"IYIIY\", 2)])\n"
   ]
  },
  {
   "cell_type": "code",
   "execution_count": 39,
   "id": "28af1e41",
   "metadata": {},
   "outputs": [
    {
     "ename": "AttributeError",
     "evalue": "'SparsePauliOp' object has no attribute 'exp_i'",
     "output_type": "error",
     "traceback": [
      "\u001b[0;31m---------------------------------------------------------------------------\u001b[0m",
      "\u001b[0;31mAttributeError\u001b[0m                            Traceback (most recent call last)",
      "\u001b[0;32m/var/folders/ll/ncs54ns51dvc_v__m6s7brh40000gn/T/ipykernel_96802/1487796439.py\u001b[0m in \u001b[0;36m<module>\u001b[0;34m\u001b[0m\n\u001b[0;32m----> 1\u001b[0;31m \u001b[0mevolution_op\u001b[0m \u001b[0;34m=\u001b[0m \u001b[0;34m(\u001b[0m\u001b[0mevo_time\u001b[0m\u001b[0;34m*\u001b[0m\u001b[0mop\u001b[0m\u001b[0;34m)\u001b[0m\u001b[0;34m.\u001b[0m\u001b[0mexp_i\u001b[0m\u001b[0;34m(\u001b[0m\u001b[0;34m)\u001b[0m\u001b[0;34m\u001b[0m\u001b[0;34m\u001b[0m\u001b[0m\n\u001b[0m",
      "\u001b[0;31mAttributeError\u001b[0m: 'SparsePauliOp' object has no attribute 'exp_i'"
     ]
    }
   ],
   "source": [
    "evolution_op = (evo_time*hamiltonian).exp_i()\n"
   ]
  },
  {
   "cell_type": "code",
   "execution_count": 40,
   "id": "f1457da6",
   "metadata": {},
   "outputs": [
    {
     "data": {
      "text/plain": [
       "PauliSumOp(SparsePauliOp(['XXZ', 'ZXZ'],\n",
       "              coeffs=[1.+0.j, 1.+0.j]), coeff=1.0)"
      ]
     },
     "execution_count": 40,
     "metadata": {},
     "output_type": "execute_result"
    }
   ],
   "source": [
    "hamiltonian"
   ]
  },
  {
   "cell_type": "code",
   "execution_count": 42,
   "id": "9a80bda3",
   "metadata": {},
   "outputs": [
    {
     "ename": "NameError",
     "evalue": "name 'PauliSumOp' is not defined",
     "output_type": "error",
     "traceback": [
      "\u001b[0;31m---------------------------------------------------------------------------\u001b[0m",
      "\u001b[0;31mNameError\u001b[0m                                 Traceback (most recent call last)",
      "\u001b[0;32m/var/folders/ll/ncs54ns51dvc_v__m6s7brh40000gn/T/ipykernel_96802/1762407388.py\u001b[0m in \u001b[0;36m<module>\u001b[0;34m\u001b[0m\n\u001b[0;32m----> 1\u001b[0;31m \u001b[0mPauliSumOp\u001b[0m\u001b[0;34m(\u001b[0m\u001b[0mop\u001b[0m\u001b[0;34m)\u001b[0m\u001b[0;34m\u001b[0m\u001b[0;34m\u001b[0m\u001b[0m\n\u001b[0m",
      "\u001b[0;31mNameError\u001b[0m: name 'PauliSumOp' is not defined"
     ]
    }
   ],
   "source": []
  },
  {
   "cell_type": "code",
   "execution_count": null,
   "id": "6b338500",
   "metadata": {},
   "outputs": [],
   "source": []
  }
 ],
 "metadata": {
  "kernelspec": {
   "display_name": "Python 3 (ipykernel)",
   "language": "python",
   "name": "python3"
  },
  "language_info": {
   "codemirror_mode": {
    "name": "ipython",
    "version": 3
   },
   "file_extension": ".py",
   "mimetype": "text/x-python",
   "name": "python",
   "nbconvert_exporter": "python",
   "pygments_lexer": "ipython3",
   "version": "3.9.7"
  }
 },
 "nbformat": 4,
 "nbformat_minor": 5
}
