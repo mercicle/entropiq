{
 "cells": [
  {
   "cell_type": "markdown",
   "metadata": {},
   "source": [
    "![image](resources/qcqh-lab-header.png)"
   ]
  },
  {
   "cell_type": "markdown",
   "metadata": {},
   "source": [
    "## Lab 8: Quantum Chemistry\n",
    "\n",
    "<img src=\"resources/quantum-chemistry.png\">"
   ]
  },
  {
   "cell_type": "markdown",
   "metadata": {},
   "source": [
    "In this lab, you will run through an example of a quantum chemistry problem. You will be exploring the simulation of the molecule LiH in Qiskit. You will need to follow the video associated with this lab.\n",
    "\n",
    "### Installing necessary packages\n",
    "\n",
    "Before we begin, you will need to install some prerequisites into your environment. Run the cell below to complete these installations. At the end, the cell outputs will be cleared."
   ]
  },
  {
   "cell_type": "code",
   "execution_count": null,
   "metadata": {},
   "outputs": [],
   "source": [
    "!pip install -U -r resources/requirements.txt\n",
    "\n",
    "from IPython.display import clear_output\n",
    "clear_output()"
   ]
  },
  {
   "cell_type": "markdown",
   "metadata": {},
   "source": [
    "## Simulating LiH"
   ]
  },
  {
   "cell_type": "code",
   "execution_count": null,
   "metadata": {},
   "outputs": [],
   "source": [
    "from qiskit.chemistry.drivers import PySCFDriver, UnitsType\n",
    "\n",
    "molecular_coordinates = 'Li 0 0 0; H 1.6 0 0'\n",
    "\n",
    "distance_unit = UnitsType.ANGSTROM\n",
    "\n",
    "basis = 'sto3g'\n",
    "\n",
    "driver = PySCFDriver(molecular_coordinates, unit=distance_unit)\n",
    "\n",
    "molecule = driver.run()\n",
    "\n",
    "h1 = molecule.one_body_integrals\n",
    "\n",
    "print(h1)"
   ]
  },
  {
   "cell_type": "code",
   "execution_count": null,
   "metadata": {
    "scrolled": false
   },
   "outputs": [],
   "source": [
    "h2 = molecule.two_body_integrals\n",
    "print(h2)"
   ]
  },
  {
   "cell_type": "code",
   "execution_count": null,
   "metadata": {},
   "outputs": [],
   "source": [
    "nuclear_repulsion_energy = molecule.nuclear_repulsion_energy\n",
    "\n",
    "print(nuclear_repulsion_energy)"
   ]
  },
  {
   "cell_type": "markdown",
   "metadata": {},
   "source": [
    "# 1. Creating a Fermionic Operator "
   ]
  },
  {
   "cell_type": "code",
   "execution_count": null,
   "metadata": {},
   "outputs": [],
   "source": [
    "from qiskit.chemistry import FermionicOperator\n",
    "\n",
    "ferOp = FermionicOperator(h1=h1, h2=h2)\n",
    "\n",
    "num_spin_orbitals = molecule.num_orbitals * 2\n",
    "num_particles = molecule.num_alpha + molecule.num_beta\n",
    "\n",
    "freeze_list = [0,6] \n",
    "\n",
    "remove_list = [3,8]\n"
   ]
  },
  {
   "cell_type": "code",
   "execution_count": null,
   "metadata": {},
   "outputs": [],
   "source": [
    "ferOp_f, energy_shift = ferOp.fermion_mode_freezing(freeze_list)\n",
    "\n",
    "num_spin_orbitals -= len(freeze_list)\n",
    "num_particles -= len(freeze_list)\n",
    "\n",
    "print(ferOp_f.h1)"
   ]
  },
  {
   "cell_type": "code",
   "execution_count": null,
   "metadata": {},
   "outputs": [],
   "source": [
    "ferOp_fr = ferOp_f.fermion_mode_elimination(remove_list)\n",
    "\n",
    "num_spin_orbitals -= len(remove_list)\n",
    "\n",
    "print(ferOp_fr.h1)"
   ]
  },
  {
   "cell_type": "markdown",
   "metadata": {},
   "source": [
    "# 2. Creating a Qubit Operator "
   ]
  },
  {
   "cell_type": "code",
   "execution_count": null,
   "metadata": {
    "scrolled": false
   },
   "outputs": [],
   "source": [
    "map_type = 'parity'\n",
    "\n",
    "qubitOp = ferOp_fr.mapping(map_type=map_type)\n",
    "\n",
    "print(qubitOp)\n",
    "print(qubitOp.print_details())"
   ]
  },
  {
   "cell_type": "code",
   "execution_count": null,
   "metadata": {},
   "outputs": [],
   "source": [
    "from qiskit.aqua.operators import Z2Symmetries\n",
    "\n",
    "pauli_symm = Z2Symmetries.find_Z2_symmetries(qubitOp)\n",
    "print(pauli_symm)"
   ]
  },
  {
   "cell_type": "code",
   "execution_count": null,
   "metadata": {
    "scrolled": false
   },
   "outputs": [],
   "source": [
    "qubitOp_t = Z2Symmetries.two_qubit_reduction(qubitOp, num_particles)\n",
    "\n",
    "print(num_particles)\n",
    "\n",
    "print(qubitOp_t)\n",
    "print(qubitOp_t.print_details())"
   ]
  },
  {
   "cell_type": "code",
   "execution_count": null,
   "metadata": {},
   "outputs": [],
   "source": [
    "from qiskit.aqua.algorithms import NumPyEigensolver\n",
    "\n",
    "ee = NumPyEigensolver(qubitOp_t)\n",
    "\n",
    "result = ee.run()\n",
    "ref = result['eigenvalues']\n",
    "\n",
    "print(ref + nuclear_repulsion_energy + energy_shift)"
   ]
  },
  {
   "cell_type": "markdown",
   "metadata": {},
   "source": [
    "# Creating a Variational Ansatz "
   ]
  },
  {
   "cell_type": "code",
   "execution_count": null,
   "metadata": {},
   "outputs": [],
   "source": [
    "from qiskit.chemistry.components.initial_states import HartreeFock\n",
    "\n",
    "init_state = HartreeFock(num_orbitals=4, num_particles=2, qubit_mapping='jordan_wigner')\n",
    "\n",
    "print(init_state.bitstr)\n",
    "\n",
    "HF_circuit = init_state.construct_circuit('circuit')\n",
    "HF_circuit.decompose().draw(output='mpl')"
   ]
  },
  {
   "cell_type": "code",
   "execution_count": null,
   "metadata": {},
   "outputs": [],
   "source": [
    "from qiskit.chemistry.components.variational_forms import UCCSD\n",
    "\n",
    "UCCSD_var_form = UCCSD(num_orbitals=4, num_particles=2, qubit_mapping='jordan_wigner',\n",
    "                      excitation_type='s', method_singles='beta',\n",
    "                      initial_state=init_state, two_qubit_reduction=False, reps=2)\n",
    "\n",
    "print(UCCSD_var_form.single_excitations)\n",
    "print(UCCSD_var_form.num_parameters)"
   ]
  },
  {
   "cell_type": "code",
   "execution_count": null,
   "metadata": {},
   "outputs": [],
   "source": [
    "var_circuit = UCCSD_var_form.construct_circuit([1,2])\n",
    "\n",
    "var_circuit.decompose().draw(output='mpl')"
   ]
  },
  {
   "cell_type": "markdown",
   "metadata": {},
   "source": [
    "# Homework - The last symmetry standing "
   ]
  },
  {
   "cell_type": "code",
   "execution_count": null,
   "metadata": {},
   "outputs": [],
   "source": [
    "pauli_symm = Z2Symmetries.find_Z2_symmetries(qubitOp_t)\n",
    "print(pauli_symm)"
   ]
  }
 ],
 "metadata": {
  "kernelspec": {
   "display_name": "Python 3",
   "language": "python",
   "name": "python3"
  },
  "language_info": {
   "codemirror_mode": {
    "name": "ipython",
    "version": 3
   },
   "file_extension": ".py",
   "mimetype": "text/x-python",
   "name": "python",
   "nbconvert_exporter": "python",
   "pygments_lexer": "ipython3",
   "version": "3.8.2"
  }
 },
 "nbformat": 4,
 "nbformat_minor": 2
}
