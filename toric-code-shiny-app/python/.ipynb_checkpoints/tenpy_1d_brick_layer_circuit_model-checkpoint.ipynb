{
 "cells": [
  {
   "cell_type": "markdown",
   "metadata": {},
   "source": [
    "# TeNPy 1D Brick Layer Circuit Model\n",
    "\n",
    "We will use matrix product operators to simulate the following process.  The Hilbert space is N qubits arranged on a line.  We start with the density matrix\n",
    " \n",
    "\n",
    "$$rho = \\frac{1}{2^N}*I$$\n",
    "\n",
    "The dynamics is governed by a \"brick layer\" structure, see figure 1 of https://arxiv.org/pdf/1808.06134.pdf.  \n",
    "\n",
    "At each step, we apply a sequence of random 2-site unitaries, and sometimes follow them with a (one site) measurement.  Whether or not we will follow by a one-site measurement is controlled by a probability r.  The 2-site unitaries are chosen randomly from the Clifford group (we can do the entire unitary group too, later).  The Clifford group for two spins is described in eqs. 16-19 of the reference above.  So we choose a 2-site Clifford unitary randomly, for each relevant pair of spins.  When we do a measurement, we project onto one of the two spin states in the z basis, with the probability given by the usual Born probability.\n",
    "\n",
    "To be explicit, when we apply a Clifford unitary U, the density matrix evolves as\n",
    "\n",
    "$$ rho \\rightarrow U \\rho \\space U^{\\dagger} $$\n",
    "\n",
    "And when we apply a measurement with projection P, it evolves as\n",
    "\n",
    "$$rho \\rightarrow P \\rho \\space P $$\n",
    "\n",
    "We run this process for some number of time steps T (perhaps on the order of N), and then measure the entropy of rho.  The easiest numerically is the second Renyi entropy, which is:\n",
    "\n",
    "$$ log (Tr(\\rho^2)) $$\n",
    "  \n",
    "\n",
    "We then plot this as a function of r.  I expect to see a transition as r increases from a \"volume law\" entanglement (that goes like N) to an area law one (that goes to a constant independent of N).\n",
    "\n",
    "In principle this can be done without using matrix product operators at all.  But then you are dealing with an exponentially large Hilbert space (dim $= 2^N$), so this becomes computationally very difficult.  But I expect (hope?) that if we keep rho always in matrix product operator form, then we can keep it in this form (to a good approximation) as a _low rank_ matrix product operator, at least when r is not equal to the critical value r_c where the transition from volume law to area law entanglement takes place.\n",
    "\n",
    "So the thing to do first is to figure out what tenpy allows you to do with matrix product operators (MPOs); specifically how can they be manipulated.  E.g. can you multiply them easily, while keeping MPO form?\n",
    "\n",
    "\n"
   ]
  },
  {
   "cell_type": "markdown",
   "metadata": {},
   "source": [
    "# TeNPy Architecture \n",
    "\n",
    "<img src=\"images/tenpy_layers.png\" width=\"400\">\n",
    "\n"
   ]
  },
  {
   "cell_type": "code",
   "execution_count": 2,
   "metadata": {},
   "outputs": [],
   "source": [
    "import numpy as np\n",
    "import scipy\n",
    "import matplotlib.pyplot as plt\n",
    "np.set_printoptions(precision=5, suppress=True, linewidth=120)\n",
    "plt.rcParams['figure.dpi'] = 150"
   ]
  },
  {
   "cell_type": "code",
   "execution_count": 20,
   "metadata": {},
   "outputs": [],
   "source": [
    "import tenpy\n",
    "import tenpy.linalg.np_conserved as npc\n",
    "from tenpy.algorithms.dmrg import TwoSiteDMRGEngine\n",
    "from tenpy.algorithms.exact_diag import ExactDiag\n",
    "from tenpy.networks.mps import MPS\n",
    "\n",
    "# https://tenpy.github.io/reference/tenpy.models.spins.SpinChain.html#tenpy.models.spins.SpinChain\n",
    "# The SpinChainNNN2 has next-nearest-neighbor couplings and thus only implements an MPO:\n",
    "# https://github.com/tenpy/tenpy/blob/9b478b26e7f71be7acea814eb26b62f2ca326047/tenpy/models/spins_nnn.py\n",
    "\n",
    "# The :class:`SpinChainNNN` uses the\n",
    "# :class:`~tenpy.networks.site.GroupedSite` to keep it a\n",
    "# :class:`~tenpy.models.model.NearestNeighborModel` suitable for TEBD,\n",
    "# while the :class:`SpinChainNNN2` just involves longer-range couplings in the MPO.\n",
    "# The latter is preferable for pure DMRG calculations and avoids having to add each of the short\n",
    "# range couplings twice for the grouped sites.\n",
    "from tenpy.models.spins_nnn import NearestNeighborModel, SpinChainNNN, SpinChainNNN2\n",
    "from tenpy.algorithms.exact_diag import ExactDiag\n",
    "\n",
    "\n",
    "tenpy.tools.misc.setup_logging(to_stdout=\"WARNING\")  # don't show info text"
   ]
  },
  {
   "cell_type": "code",
   "execution_count": 21,
   "metadata": {},
   "outputs": [],
   "source": [
    "import warnings\n",
    "import itertools\n",
    "\n",
    "from tenpy.models import model, lattice\n",
    "from tenpy.models.xxz_chain import XXZChain\n",
    "import tenpy.networks.site\n",
    "import tenpy.linalg.np_conserved as npc\n",
    "from tenpy.tools.params import Config\n",
    "from tenpy.algorithms.exact_diag import ExactDiag\n",
    "import numpy as np\n",
    "import numpy.testing as npt\n",
    "import pytest\n",
    "\n",
    "spin_half_site = tenpy.networks.site.SpinHalfSite('Sz')\n",
    "\n",
    "fermion_site = tenpy.networks.site.FermionSite('N')\n",
    "\n",
    "__all__ = [\"check_model_sanity\", \"check_general_model\"]\n",
    "\n",
    "\n",
    "def check_model_sanity(M, hermitian=True):\n",
    "    \"\"\"call M.test_sanity() for all different subclasses of M.\"\"\"\n",
    "    if isinstance(M, model.CouplingModel):\n",
    "        model.CouplingModel.test_sanity(M)\n",
    "    if isinstance(M, model.NearestNeighborModel):\n",
    "        model.NearestNeighborModel.test_sanity(M)\n",
    "        if hermitian:\n",
    "            for i, H in enumerate(M.H_bond):\n",
    "                if H is not None:\n",
    "                    err = npc.norm(H - H.conj().transpose(H.get_leg_labels()))\n",
    "                    if err > 1.e-14:\n",
    "                        print(H)\n",
    "                        raise ValueError(\"H on bond {i:d} not hermitian\".format(i=i))\n",
    "    if isinstance(M, model.MPOModel):\n",
    "        model.MPOModel.test_sanity(M)\n",
    "        if hermitian:\n",
    "            assert M.H_MPO.is_hermitian()\n",
    "\n",
    "\n",
    "def check_general_model(ModelClass, model_pars={}, check_pars={}, hermitian=True):\n",
    "    \"\"\"Create a model for different sets of parameters and check its sanity.\n",
    "    Parameters\n",
    "    ----------\n",
    "    ModelClass :\n",
    "        We generate models of this class\n",
    "    model_pars : dict\n",
    "        Model parameters used.\n",
    "    check_pars : dict\n",
    "        pairs (`key`, `list of values`); we update ``model_pars[key]`` with any values of\n",
    "        ``check_pars[key]`` (in each possible combination!) and create a model for it.\n",
    "    hermitian : bool\n",
    "        If True, check that the Hamiltonian is Hermitian.\n",
    "    \"\"\"\n",
    "    for vals in itertools.product(*list(check_pars.values())):\n",
    "        print(\"-\" * 40)\n",
    "        params = model_pars.copy()\n",
    "        for k, v in zip(list(check_pars.keys()), vals):\n",
    "            params[k] = v\n",
    "        print(\"check_model_sanity with following parameters:\")\n",
    "        print(params)\n",
    "        M = ModelClass(params)\n",
    "        check_model_sanity(M, hermitian)\n",
    "        \n",
    "def test_CouplingModel():\n",
    "    for bc in ['open', 'periodic']:\n",
    "        spin_half_lat = lattice.Chain(5, spin_half_site, bc=bc, bc_MPS='finite')\n",
    "        M = model.CouplingModel(spin_half_lat)\n",
    "        M.add_coupling(1.2, 0, 'Sz', 0, 'Sz', 1)\n",
    "        M.test_sanity()\n",
    "        M.calc_H_MPO()\n",
    "        if bc == 'periodic':\n",
    "            with pytest.raises(ValueError, match=\"nearest neighbor\"):\n",
    "                M.calc_H_bond()  # should raise a ValueError\n",
    "                # periodic bc but finite bc_MPS leads to a long-range coupling\n",
    "        else:\n",
    "            M.calc_H_bond()"
   ]
  },
  {
   "cell_type": "code",
   "execution_count": 22,
   "metadata": {},
   "outputs": [
    {
     "name": "stdout",
     "output_type": "stream",
     "text": [
      "----------------------------------------\n",
      "check_model_sanity with following parameters:\n",
      "{'hz': 0.5, 'Jx': -2.0, 'Jy': -2.0, 'Jz': 0.4, 'L': 4, 'conserve': None, 'bc_MPS': 'finite'}\n",
      "----------------------------------------\n",
      "check_model_sanity with following parameters:\n",
      "{'hz': 0.5, 'Jx': -2.0, 'Jy': -2.0, 'Jz': 0.4, 'L': 4, 'conserve': None, 'bc_MPS': 'infinite'}\n",
      "----------------------------------------\n",
      "check_model_sanity with following parameters:\n",
      "{'hz': 0.5, 'Jx': -2.0, 'Jy': -2.0, 'Jz': 0.4, 'L': 4, 'conserve': 'Sz', 'bc_MPS': 'finite'}\n",
      "----------------------------------------\n",
      "check_model_sanity with following parameters:\n",
      "{'hz': 0.5, 'Jx': -2.0, 'Jy': -2.0, 'Jz': 0.4, 'L': 4, 'conserve': 'Sz', 'bc_MPS': 'infinite'}\n"
     ]
    }
   ],
   "source": [
    " check_general_model(SpinChainNNN, {\n",
    "        'hz': 0.5,\n",
    "        'Jx': -2.,\n",
    "        'Jy': -2.,\n",
    "        'Jz': 0.4,\n",
    "        'L': 4\n",
    "    }, {\n",
    "        'conserve': [None, 'Sz'],\n",
    "        'bc_MPS': ['finite', 'infinite']\n",
    "    })"
   ]
  },
  {
   "cell_type": "code",
   "execution_count": 13,
   "metadata": {},
   "outputs": [
    {
     "name": "stdout",
     "output_type": "stream",
     "text": [
      "True\n",
      "range before grouping: 1\n"
     ]
    }
   ],
   "source": [
    "# https://tenpy.github.io/reference/tenpy.models.spins.SpinChain.html#tenpy.models.spins.SpinChain\n",
    "\n",
    "nnn_chain = SpinChainNNN({'L': 16})\n",
    "print(isinstance(nnn_chain, NearestNeighborModel))\n",
    "\n",
    "print(\"range before grouping:\", nnn_chain.H_MPO.max_range)\n",
    "\n",
    "#if SpinChainNNN2, By grouping each two neighboring sites, we can bring it down to nearest neighbors.\n",
    "#nnn_chain.group_sites(2)\n",
    "#print(\"range after grouping:\", nnn_chain.H_MPO.max_range)"
   ]
  },
  {
   "cell_type": "markdown",
   "metadata": {},
   "source": [
    "Here we plot the 1D model to visualize the system."
   ]
  },
  {
   "cell_type": "code",
   "execution_count": 11,
   "metadata": {},
   "outputs": [
    {
     "data": {
      "text/plain": [
       "<bound method CouplingModel.all_coupling_terms of <tenpy.models.spins_nnn.SpinChainNNN2 object at 0x11db2cfa0>>"
      ]
     },
     "execution_count": 11,
     "metadata": {},
     "output_type": "execute_result"
    }
   ],
   "source": [
    "#plt.figure(figsize=(7, 5))\n",
    "#ax = plt.gca()\n",
    "nnn_chain.all_coupling_terms\n",
    "\n",
    "    "
   ]
  },
  {
   "cell_type": "markdown",
   "metadata": {},
   "source": [
    "## iDMRG\n",
    "\n",
    "\"Infinite size Density Matrix Renormalization Group(iDMRG) is a tool to find the ground state of 1D model where the ground state is an entengled state.\"\n",
    "\n",
    "We now run the iDMRG algorithm for the four different sectors to obtain the four degenerate ground states of the system. \n",
    "\n",
    "To reliably get the 4 different ground states, we will add the energetic constraints for the loops.\n",
    "In this case, the original Hamiltonian will completely commute with the loop operators, such that you directly get the correct ground state. However, this is a very peculiar case - in general, e.g. when you add the external field with $h \\neq 0$, this will no longer be the case.\n",
    "\n",
    "We hence demonstrate a more \"robust\" way of getting the four different ground states (at least if you have an idea which operator distinguishes them): \n",
    "\n",
    "For each sector, we run DMRG twice: first with the energy penalties for the $W,H$ loops to get an initial $|\\psi\\rangle$ in the desired sector. Then we run DMRG again for the clean toric code model, without the $W,H$ added, to make sure we have a ground state of the clean model.\n",
    "\n"
   ]
  },
  {
   "cell_type": "code",
   "execution_count": 78,
   "metadata": {},
   "outputs": [],
   "source": [
    "\n",
    "model_params = {'Lx': 2, 'Ly': 2,'conserve':None,'bc_MPS':'finite'}\n",
    "\n",
    "model = ToricCode(model_params)\n",
    "\n",
    "exact_diag = ExactDiag(model, max_size=2.e6)\n",
    "\n",
    "#print(f\"Exact Diagonalizatino of H = {exact_diag:.10f}\")\n"
   ]
  },
  {
   "cell_type": "code",
   "execution_count": 80,
   "metadata": {},
   "outputs": [],
   "source": [
    "exact_diag.build_full_H_from_mpo()"
   ]
  },
  {
   "cell_type": "code",
   "execution_count": 82,
   "metadata": {},
   "outputs": [],
   "source": [
    "exact_diag.full_diagonalization()\n",
    "E, psi = exact_diag.groundstate()"
   ]
  },
  {
   "cell_type": "code",
   "execution_count": 83,
   "metadata": {},
   "outputs": [
    {
     "data": {
      "text/plain": [
       "-4.0000000000000036"
      ]
     },
     "execution_count": 83,
     "metadata": {},
     "output_type": "execute_result"
    }
   ],
   "source": [
    "E"
   ]
  },
  {
   "cell_type": "code",
   "execution_count": 84,
   "metadata": {},
   "outputs": [
    {
     "data": {
      "text/plain": [
       "<npc.Array shape=(256,) labels=['ps']>"
      ]
     },
     "execution_count": 84,
     "metadata": {},
     "output_type": "execute_result"
    }
   ],
   "source": [
    "psi"
   ]
  },
  {
   "cell_type": "code",
   "execution_count": 69,
   "metadata": {},
   "outputs": [
    {
     "data": {
      "text/plain": [
       "<tenpy.networks.mps.MPS at 0x12cf480d0>"
      ]
     },
     "execution_count": 69,
     "metadata": {},
     "output_type": "execute_result"
    }
   ],
   "source": [
    "psi = MPS.from_lat_product_state(model.lat, [[[\"up\"]]])\n"
   ]
  },
  {
   "cell_type": "code",
   "execution_count": 70,
   "metadata": {},
   "outputs": [
    {
     "name": "stdout",
     "output_type": "stream",
     "text": [
      "E after first DMRG run: E = -4.0000000000\n",
      "E from model.H_MPO.expectation_value(psi) = -4.0000000000\n",
      "Max Chi =  2\n"
     ]
    }
   ],
   "source": [
    "\n",
    "psi = MPS.from_lat_product_state(model.lat, [[[\"up\"]]])\n",
    "\n",
    "eng = TwoSiteDMRGEngine(psi, model, dmrg_params)\n",
    "\n",
    "E, psi = eng.run()\n",
    "\n",
    "print(f\"E after first DMRG run: E = {E:.10f}\")\n",
    "\n",
    "E_from_H_MPO_exp_val = model.H_MPO.expectation_value(psi)\n",
    "print(f\"E from model.H_MPO.expectation_value(psi) = {E_from_H_MPO_exp_val:.10f}\")\n",
    "\n",
    "print(\"Max Chi = \", max(psi.chi))\n",
    "\n",
    "result_object = {'psi': psi,  'model': model, 'E': E, 'E_from_H_MPO_exp_val': E_from_H_MPO_exp_val}\n",
    "\n"
   ]
  },
  {
   "cell_type": "code",
   "execution_count": 71,
   "metadata": {},
   "outputs": [
    {
     "data": {
      "text/plain": [
       "{'psi': <tenpy.networks.mps.MPS at 0x12ce88d90>,\n",
       " 'model': <tenpy.models.toric_code.ToricCode at 0x12c924760>,\n",
       " 'E': -4.000000000000001,\n",
       " 'E_from_H_MPO_exp_val': -4.000000000000001}"
      ]
     },
     "execution_count": 71,
     "metadata": {},
     "output_type": "execute_result"
    }
   ],
   "source": [
    "result_object"
   ]
  },
  {
   "cell_type": "markdown",
   "metadata": {},
   "source": [
    "As we can see from the output, the idea worked and we indeed get the desired expectation values for the W/H loops.\n",
    "Also, we can directly see that the ground states are degenerate in energy. "
   ]
  },
  {
   "cell_type": "markdown",
   "metadata": {},
   "source": [
    "\n",
    "To check that we found indeed four orhogonal ground states, let's calculate mutual overlaps $\\langle \\psi_i | \\psi_j \\rangle$ for $i,j \\in range(4)$:"
   ]
  },
  {
   "cell_type": "code",
   "execution_count": 11,
   "metadata": {},
   "outputs": [
    {
     "name": "stdout",
     "output_type": "stream",
     "text": [
      "overlaps\n",
      "[[ 1.+0.j  0.+0.j -0.+0.j  0.+0.j]\n",
      " [ 0.+0.j  1.+0.j -0.+0.j  0.+0.j]\n",
      " [-0.+0.j -0.+0.j  1.+0.j -0.+0.j]\n",
      " [ 0.+0.j  0.+0.j -0.+0.j  1.+0.j]]\n"
     ]
    }
   ],
   "source": [
    "psi_list = [res['psi'] for res in results_loops.values()]\n",
    "overlaps= [[psi_i.overlap(psi_j) for psi_j in psi_list] for psi_i in psi_list]\n",
    "print(\"overlaps\")\n",
    "print(np.array(overlaps))"
   ]
  },
  {
   "cell_type": "markdown",
   "metadata": {},
   "source": [
    "The correlation length is almost vanishing, as it should be:"
   ]
  },
  {
   "cell_type": "code",
   "execution_count": 8,
   "metadata": {},
   "outputs": [
    {
     "name": "stdout",
     "output_type": "stream",
     "text": [
      "Correlation lengths: \n",
      "[0.02917 0.02959 0.0292  0.02962]\n"
     ]
    }
   ],
   "source": [
    "print(\"Correlation lengths: \")\n",
    "model = results_loops[(+5., +5.)]['model']\n",
    "print(np.array([psi.correlation_length() / model.lat.N_sites_per_ring for psi in psi_list]))"
   ]
  },
  {
   "cell_type": "markdown",
   "metadata": {},
   "source": [
    "**Intermezzo**: Let's quickly check for a single case that this still works for non-zero $h = 0.1$, where the t'Hooft loop no longer commutes with the Hamiltonian:"
   ]
  },
  {
   "cell_type": "code",
   "execution_count": 9,
   "metadata": {},
   "outputs": [
    {
     "name": "stdout",
     "output_type": "stream",
     "text": [
      "================================================================================\n",
      "Start iDMRG for Ly=4, J_WL=5.00, J_HL=-5.00, h=0.10\n",
      "after first DMRG run: <psi|W|psi> =  1.000\n",
      "after first DMRG run: <psi|H|psi> = -1.000\n",
      "after first DMRG run: E (including W/H loops) = -2.2516147149\n",
      "after first DMRG run: E (excluding W/H loops) = -1.0018727133\n",
      "after second DMRG run: <psi|W|psi> =  1.000\n",
      "after second DMRG run: <psi|H|psi> = -0.995\n",
      "after second DMRG run: E (excluding W/H loops) = -1.0025283892\n",
      "max chi:  64\n"
     ]
    }
   ],
   "source": [
    "res_h = run_DMRG(4, +5., -5., 0.1)"
   ]
  },
  {
   "cell_type": "markdown",
   "metadata": {},
   "source": [
    "The t'Hooft loop no longer is exactly 1 in the ground state, since it no longer commutes with the Hamiltonian, but it is still close to one, so it still distinguishes the degenerate states. As expected, the local perturbation of the field can not destry the global, topological nature of the ground state (manifold)."
   ]
  },
  {
   "cell_type": "markdown",
   "metadata": {},
   "source": [
    "## Topological entanglement entropy\n",
    "\n",
    "Back to $h=0$. For the toric code, the half-cylinder entanglement entropy should be $(L_y-1)\\log 2$.\n",
    "Indeed, we get the correct value at bond 0:"
   ]
  },
  {
   "cell_type": "code",
   "execution_count": 10,
   "metadata": {},
   "outputs": [
    {
     "name": "stdout",
     "output_type": "stream",
     "text": [
      "Entanglement entropies / log(2)\n",
      "[3. 3. 3. 3.]\n"
     ]
    }
   ],
   "source": [
    "print(\"Entanglement entropies / log(2)\")\n",
    "print(np.array([psi.entanglement_entropy()[0]/np.log(2) for psi in psi_list]))"
   ]
  },
  {
   "cell_type": "markdown",
   "metadata": {},
   "source": [
    "Recall that bond 0 is usually a sensible cut for infinite DMRG on a common lattice.\n",
    "This is especially important if you want to extract the [topological entanglement entropy](https://arxiv.org/abs/hep-th/0510092) $\\gamma$ from a fit $S(L_y) = \\alpha L_y - \\gamma$, as corners in the cut can also contribute to $\\gamma$.\n",
    "\n",
    "Let us demonstrate the extraction of $\\gamma = \\log(2)$ for the toric code:"
   ]
  },
  {
   "cell_type": "code",
   "execution_count": 11,
   "metadata": {},
   "outputs": [
    {
     "name": "stdout",
     "output_type": "stream",
     "text": [
      "================================================================================\n",
      "Start iDMRG for Ly=2, J_WL=5.00, J_HL=5.00, h=0.00\n",
      "after first DMRG run: <psi|W|psi> =  1.000\n",
      "after first DMRG run: <psi|H|psi> =  1.000\n",
      "after first DMRG run: E (including W/H loops) = -3.5000000000\n",
      "after first DMRG run: E (excluding W/H loops) = -1.0000000000\n",
      "after second DMRG run: <psi|W|psi> =  1.000\n",
      "after second DMRG run: <psi|H|psi> =  1.000\n",
      "after second DMRG run: E (excluding W/H loops) = -1.0000000000\n",
      "max chi:  4\n",
      "================================================================================\n",
      "Start iDMRG for Ly=3, J_WL=5.00, J_HL=5.00, h=0.00\n",
      "after first DMRG run: <psi|W|psi> =  1.000\n",
      "after first DMRG run: <psi|H|psi> =  1.000\n",
      "after first DMRG run: E (including W/H loops) = -2.6666666667\n",
      "after first DMRG run: E (excluding W/H loops) = -1.0000000000\n",
      "after second DMRG run: <psi|W|psi> =  1.000\n",
      "after second DMRG run: <psi|H|psi> =  1.000\n",
      "after second DMRG run: E (excluding W/H loops) = -1.0000000000\n",
      "max chi:  8\n",
      "================================================================================\n",
      "Start iDMRG for Ly=4, J_WL=5.00, J_HL=5.00, h=0.00\n",
      "after first DMRG run: <psi|W|psi> =  1.000\n",
      "after first DMRG run: <psi|H|psi> =  1.000\n",
      "after first DMRG run: E (including W/H loops) = -2.2500000000\n",
      "after first DMRG run: E (excluding W/H loops) = -1.0000000000\n",
      "after second DMRG run: <psi|W|psi> =  1.000\n",
      "after second DMRG run: <psi|H|psi> =  1.000\n",
      "after second DMRG run: E (excluding W/H loops) = -1.0000000000\n",
      "max chi:  16\n",
      "================================================================================\n",
      "Start iDMRG for Ly=5, J_WL=5.00, J_HL=5.00, h=0.00\n",
      "after first DMRG run: <psi|W|psi> =  1.000\n",
      "after first DMRG run: <psi|H|psi> =  1.000\n",
      "after first DMRG run: E (including W/H loops) = -2.0000000000\n",
      "after first DMRG run: E (excluding W/H loops) = -1.0000000000\n",
      "after second DMRG run: <psi|W|psi> =  1.000\n",
      "after second DMRG run: <psi|H|psi> =  1.000\n",
      "after second DMRG run: E (excluding W/H loops) = -1.0000000000\n",
      "max chi:  32\n",
      "================================================================================\n",
      "Start iDMRG for Ly=6, J_WL=5.00, J_HL=5.00, h=0.00\n",
      "after first DMRG run: <psi|W|psi> =  1.000\n",
      "after first DMRG run: <psi|H|psi> =  1.000\n",
      "after first DMRG run: E (including W/H loops) = -1.8333333333\n",
      "after first DMRG run: E (excluding W/H loops) = -1.0000000000\n",
      "after second DMRG run: <psi|W|psi> =  1.000\n",
      "after second DMRG run: <psi|H|psi> =  1.000\n",
      "after second DMRG run: E (excluding W/H loops) = -1.0000000000\n",
      "max chi:  64\n"
     ]
    }
   ],
   "source": [
    "model_params['order'] = 'Cstyle' # The effect doesn't appear with the \"default\" ordering for the toric code.\n",
    "# This is also a hint that you need bond 0: you want something independent of what order you choose\n",
    "# inside the MPS unit cell.\n",
    "\n",
    "results_Ly = {}\n",
    "\n",
    "for Ly in range(2, 7):\n",
    "    results_Ly[Ly] = run_DMRG(Ly, 5., 5.)"
   ]
  },
  {
   "cell_type": "code",
   "execution_count": 12,
   "metadata": {},
   "outputs": [
    {
     "data": {
      "image/png": "[encoded data removed]",
      "text/plain": [
       "<Figure size 1050x750 with 1 Axes>"
      ]
     },
     "metadata": {
      "needs_background": "light"
     },
     "output_type": "display_data"
    }
   ],
   "source": [
    "Lys = np.array(list(results_Ly.keys()))\n",
    "S0s = np.array([res['psi'].entanglement_entropy()[0] for res in results_Ly.values()])\n",
    "S1s = np.array([res['psi'].entanglement_entropy()[2] for res in results_Ly.values()])\n",
    "\n",
    "plt.figure(figsize=(7, 5))\n",
    "ax = plt.gca()\n",
    "ax.plot(Lys, S0s / np.log(2), 'bo', label='data at bond 0')\n",
    "ax.plot(Lys, S1s / np.log(2), 'rs', label='data at wrong bond')\n",
    "Lys_all = np.arange(0., max(Lys) + 2.)\n",
    "ax.plot(Lys_all, Lys_all - 1., '-', label='expected: $L_y - 1$')\n",
    "ax.axhline(0., linestyle='--', color='k')\n",
    "ax.set_xlabel('$L_y$')\n",
    "ax.set_ylabel('$S / log(2)$')\n",
    "\n",
    "ax.legend()\n",
    "plt.show()\n"
   ]
  },
  {
   "cell_type": "markdown",
   "metadata": {},
   "source": [
    "As expected, We find the scaling $S(L_y) = \\log(2) L_y - \\log(2)$ at bond 0, indicating that $\\gamma = \\log(2)$. \n",
    "Cutting the MPS at bond 1 (red points) is a \"wired\" cut of the cylinder and does not show the expected scaling."
   ]
  },
  {
   "cell_type": "code",
   "execution_count": null,
   "metadata": {},
   "outputs": [],
   "source": []
  }
 ],
 "metadata": {
  "kernelspec": {
   "display_name": "Python 3",
   "language": "python",
   "name": "python3"
  },
  "language_info": {
   "codemirror_mode": {
    "name": "ipython",
    "version": 3
   },
   "file_extension": ".py",
   "mimetype": "text/x-python",
   "name": "python",
   "nbconvert_exporter": "python",
   "pygments_lexer": "ipython3",
   "version": "3.8.5"
  }
 },
 "nbformat": 4,
 "nbformat_minor": 4
}
